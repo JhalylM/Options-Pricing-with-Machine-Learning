{
  "nbformat": 4,
  "nbformat_minor": 0,
  "metadata": {
    "colab": {
      "provenance": []
    },
    "kernelspec": {
      "name": "python3",
      "display_name": "Python 3"
    },
    "language_info": {
      "name": "python"
    }
  },
  "cells": [
    {
      "cell_type": "markdown",
      "source": [
        "# **Options Price Prediction with Machine Learning**\n",
        "**Overview:**\n",
        "\n",
        "Options pricing plays a critical role in the financial markets, enabling investors, traders, and institutions to make informed decisions about derivatives trading. Accurate pricing models are essential for assessing the fair value of options and for developing profitable trading strategies. Traditionally, the **Black-Scholes** model has been the gold standard for options pricing due to its simplicity and analytical approach. However, this model relies on several assumptions which may not always hold true in real-world scenarios.\n",
        "\n",
        "In this project I intend to explore the use of machine learning techniques to predict options prices, offering a data-driven alternative to the Black-Scholes model. The machine learning model is evaluated against the Black-Scholes model on both call and put options to provide a comprehensive performance comparison.\n",
        "\n",
        "**Key objectives of the project include:**\n",
        "\n",
        "**Developing a Machine Learning Model:** Training a regression-based machine learning model to predict the prices of call and put options.\n",
        "\n",
        "**Implementing the Black-Scholes Model:** Using the classical Black-Scholes formula as a benchmark for comparison.\n",
        "\n",
        "**Evaluating Model Performance:** Assessing both models using robust metrics, including **Mean Squared Error (MSE)**, **Mean Absolute Percentage Error (MAPE)**, **Average Absolute Percentage Error (AAPE)**, and **Percentage of Predictions within specified error bounds (PEX)**.\n",
        "\n",
        "**Providing Insights:** Analyzing the results to identify scenarios where the machine learning model outperforms or complements the Black-Scholes model.\n",
        "\n",
        "By combining traditional financial theories with modern machine learning approaches, this project seeks to highlight the potential of data-driven techniques in improving options pricing accuracy and addressing limitations in classical models.\n"
      ],
      "metadata": {
        "id": "tk3KNAS5GPBN"
      }
    },
    {
      "cell_type": "markdown",
      "source": [
        "## **Installing Packages**"
      ],
      "metadata": {
        "id": "yXLcM9OTy49K"
      }
    },
    {
      "cell_type": "code",
      "execution_count": 1,
      "metadata": {
        "id": "S6wNQuQJszxe"
      },
      "outputs": [],
      "source": [
        "# Install necessary libraries\n",
        "import yfinance as yf\n",
        "import numpy as np\n",
        "import pandas as pd\n",
        "import matplotlib.pyplot as plt\n",
        "from sklearn.model_selection import train_test_split\n",
        "from sklearn.preprocessing import StandardScaler\n",
        "from sklearn.ensemble import RandomForestRegressor\n",
        "from sklearn.metrics import mean_squared_error\n",
        "from scipy.stats import norm"
      ]
    },
    {
      "cell_type": "markdown",
      "source": [
        "## **Loading The Data**"
      ],
      "metadata": {
        "id": "fFdoCwiXjbxL"
      }
    },
    {
      "cell_type": "markdown",
      "source": [
        "For this example we will use Apple stock options. We can load those in below:"
      ],
      "metadata": {
        "id": "nzULCU1wzLXl"
      }
    },
    {
      "cell_type": "code",
      "source": [
        "# Choose stock, in this case Apple\n",
        "ticker = 'AAPL'\n",
        "\n",
        "aapl_ticker = yf.Ticker(ticker)\n",
        "\n",
        "# Get the available expiration dates for stock options\n",
        "all_expir_dates = aapl_ticker.options\n",
        "\n",
        "all_expir_dates"
      ],
      "metadata": {
        "colab": {
          "base_uri": "https://localhost:8080/"
        },
        "id": "ttfGS_ubhxKN",
        "outputId": "c7fa5986-ab85-4cae-e6db-cde939b4bf25"
      },
      "execution_count": 2,
      "outputs": [
        {
          "output_type": "execute_result",
          "data": {
            "text/plain": [
              "('2025-01-17',\n",
              " '2025-01-24',\n",
              " '2025-01-31',\n",
              " '2025-02-07',\n",
              " '2025-02-14',\n",
              " '2025-02-21',\n",
              " '2025-02-28',\n",
              " '2025-03-21',\n",
              " '2025-04-17',\n",
              " '2025-05-16',\n",
              " '2025-06-20',\n",
              " '2025-07-18',\n",
              " '2025-08-15',\n",
              " '2025-09-19',\n",
              " '2025-10-17',\n",
              " '2025-12-19',\n",
              " '2026-01-16',\n",
              " '2026-06-18',\n",
              " '2026-12-18',\n",
              " '2027-01-15')"
            ]
          },
          "metadata": {},
          "execution_count": 2
        }
      ]
    },
    {
      "cell_type": "code",
      "source": [
        "# Choose an expiration date\n",
        "expir_date = aapl_ticker.options[0]\n",
        "\n",
        "# Access the options data from the chosen expiration date\n",
        "aapl_options = aapl_ticker.option_chain(expir_date)\n",
        "\n",
        "# Seperate data into calls and puts data\n",
        "aapl_calls = aapl_options.calls\n",
        "aapl_puts = aapl_options.puts"
      ],
      "metadata": {
        "id": "nnfopCT3kJ73"
      },
      "execution_count": 3,
      "outputs": []
    },
    {
      "cell_type": "markdown",
      "source": [
        "Let's look at the type of data included for our options:"
      ],
      "metadata": {
        "id": "ZQu8Nbn5k3tE"
      }
    },
    {
      "cell_type": "code",
      "source": [
        "aapl_calls.head()"
      ],
      "metadata": {
        "colab": {
          "base_uri": "https://localhost:8080/",
          "height": 313
        },
        "id": "mNfPPpNQkpHn",
        "outputId": "0857dd8c-77ed-42b5-d0e2-beee87a49260"
      },
      "execution_count": 4,
      "outputs": [
        {
          "output_type": "execute_result",
          "data": {
            "text/plain": [
              "        contractSymbol             lastTradeDate  strike  lastPrice     bid  \\\n",
              "0  AAPL250117C00005000 2025-01-15 14:48:02+00:00     5.0     232.65  222.75   \n",
              "1  AAPL250117C00010000 2024-12-30 15:27:20+00:00    10.0     240.87  217.70   \n",
              "2  AAPL250117C00015000 2025-01-14 16:46:59+00:00    15.0     218.60  212.60   \n",
              "3  AAPL250117C00020000 2025-01-10 19:16:12+00:00    20.0     216.57  207.70   \n",
              "4  AAPL250117C00025000 2025-01-08 14:31:57+00:00    25.0     216.26  202.20   \n",
              "\n",
              "      ask  change  percentChange  volume  openInterest  impliedVolatility  \\\n",
              "0  223.70     0.0            0.0       1          1569          26.437502   \n",
              "1  218.95     0.0            0.0       1            29          16.062505   \n",
              "2  214.25     0.0            0.0       8           176          15.406250   \n",
              "3  208.95     0.0            0.0      25            69          12.312502   \n",
              "4  203.95     0.0            0.0       1            77          15.164063   \n",
              "\n",
              "   inTheMoney contractSize currency  \n",
              "0        True      REGULAR      USD  \n",
              "1        True      REGULAR      USD  \n",
              "2        True      REGULAR      USD  \n",
              "3        True      REGULAR      USD  \n",
              "4        True      REGULAR      USD  "
            ],
            "text/html": [
              "\n",
              "  <div id=\"df-d5563119-1f69-4b67-8c4f-f7689dc33254\" class=\"colab-df-container\">\n",
              "    <div>\n",
              "<style scoped>\n",
              "    .dataframe tbody tr th:only-of-type {\n",
              "        vertical-align: middle;\n",
              "    }\n",
              "\n",
              "    .dataframe tbody tr th {\n",
              "        vertical-align: top;\n",
              "    }\n",
              "\n",
              "    .dataframe thead th {\n",
              "        text-align: right;\n",
              "    }\n",
              "</style>\n",
              "<table border=\"1\" class=\"dataframe\">\n",
              "  <thead>\n",
              "    <tr style=\"text-align: right;\">\n",
              "      <th></th>\n",
              "      <th>contractSymbol</th>\n",
              "      <th>lastTradeDate</th>\n",
              "      <th>strike</th>\n",
              "      <th>lastPrice</th>\n",
              "      <th>bid</th>\n",
              "      <th>ask</th>\n",
              "      <th>change</th>\n",
              "      <th>percentChange</th>\n",
              "      <th>volume</th>\n",
              "      <th>openInterest</th>\n",
              "      <th>impliedVolatility</th>\n",
              "      <th>inTheMoney</th>\n",
              "      <th>contractSize</th>\n",
              "      <th>currency</th>\n",
              "    </tr>\n",
              "  </thead>\n",
              "  <tbody>\n",
              "    <tr>\n",
              "      <th>0</th>\n",
              "      <td>AAPL250117C00005000</td>\n",
              "      <td>2025-01-15 14:48:02+00:00</td>\n",
              "      <td>5.0</td>\n",
              "      <td>232.65</td>\n",
              "      <td>222.75</td>\n",
              "      <td>223.70</td>\n",
              "      <td>0.0</td>\n",
              "      <td>0.0</td>\n",
              "      <td>1</td>\n",
              "      <td>1569</td>\n",
              "      <td>26.437502</td>\n",
              "      <td>True</td>\n",
              "      <td>REGULAR</td>\n",
              "      <td>USD</td>\n",
              "    </tr>\n",
              "    <tr>\n",
              "      <th>1</th>\n",
              "      <td>AAPL250117C00010000</td>\n",
              "      <td>2024-12-30 15:27:20+00:00</td>\n",
              "      <td>10.0</td>\n",
              "      <td>240.87</td>\n",
              "      <td>217.70</td>\n",
              "      <td>218.95</td>\n",
              "      <td>0.0</td>\n",
              "      <td>0.0</td>\n",
              "      <td>1</td>\n",
              "      <td>29</td>\n",
              "      <td>16.062505</td>\n",
              "      <td>True</td>\n",
              "      <td>REGULAR</td>\n",
              "      <td>USD</td>\n",
              "    </tr>\n",
              "    <tr>\n",
              "      <th>2</th>\n",
              "      <td>AAPL250117C00015000</td>\n",
              "      <td>2025-01-14 16:46:59+00:00</td>\n",
              "      <td>15.0</td>\n",
              "      <td>218.60</td>\n",
              "      <td>212.60</td>\n",
              "      <td>214.25</td>\n",
              "      <td>0.0</td>\n",
              "      <td>0.0</td>\n",
              "      <td>8</td>\n",
              "      <td>176</td>\n",
              "      <td>15.406250</td>\n",
              "      <td>True</td>\n",
              "      <td>REGULAR</td>\n",
              "      <td>USD</td>\n",
              "    </tr>\n",
              "    <tr>\n",
              "      <th>3</th>\n",
              "      <td>AAPL250117C00020000</td>\n",
              "      <td>2025-01-10 19:16:12+00:00</td>\n",
              "      <td>20.0</td>\n",
              "      <td>216.57</td>\n",
              "      <td>207.70</td>\n",
              "      <td>208.95</td>\n",
              "      <td>0.0</td>\n",
              "      <td>0.0</td>\n",
              "      <td>25</td>\n",
              "      <td>69</td>\n",
              "      <td>12.312502</td>\n",
              "      <td>True</td>\n",
              "      <td>REGULAR</td>\n",
              "      <td>USD</td>\n",
              "    </tr>\n",
              "    <tr>\n",
              "      <th>4</th>\n",
              "      <td>AAPL250117C00025000</td>\n",
              "      <td>2025-01-08 14:31:57+00:00</td>\n",
              "      <td>25.0</td>\n",
              "      <td>216.26</td>\n",
              "      <td>202.20</td>\n",
              "      <td>203.95</td>\n",
              "      <td>0.0</td>\n",
              "      <td>0.0</td>\n",
              "      <td>1</td>\n",
              "      <td>77</td>\n",
              "      <td>15.164063</td>\n",
              "      <td>True</td>\n",
              "      <td>REGULAR</td>\n",
              "      <td>USD</td>\n",
              "    </tr>\n",
              "  </tbody>\n",
              "</table>\n",
              "</div>\n",
              "    <div class=\"colab-df-buttons\">\n",
              "\n",
              "  <div class=\"colab-df-container\">\n",
              "    <button class=\"colab-df-convert\" onclick=\"convertToInteractive('df-d5563119-1f69-4b67-8c4f-f7689dc33254')\"\n",
              "            title=\"Convert this dataframe to an interactive table.\"\n",
              "            style=\"display:none;\">\n",
              "\n",
              "  <svg xmlns=\"http://www.w3.org/2000/svg\" height=\"24px\" viewBox=\"0 -960 960 960\">\n",
              "    <path d=\"M120-120v-720h720v720H120Zm60-500h600v-160H180v160Zm220 220h160v-160H400v160Zm0 220h160v-160H400v160ZM180-400h160v-160H180v160Zm440 0h160v-160H620v160ZM180-180h160v-160H180v160Zm440 0h160v-160H620v160Z\"/>\n",
              "  </svg>\n",
              "    </button>\n",
              "\n",
              "  <style>\n",
              "    .colab-df-container {\n",
              "      display:flex;\n",
              "      gap: 12px;\n",
              "    }\n",
              "\n",
              "    .colab-df-convert {\n",
              "      background-color: #E8F0FE;\n",
              "      border: none;\n",
              "      border-radius: 50%;\n",
              "      cursor: pointer;\n",
              "      display: none;\n",
              "      fill: #1967D2;\n",
              "      height: 32px;\n",
              "      padding: 0 0 0 0;\n",
              "      width: 32px;\n",
              "    }\n",
              "\n",
              "    .colab-df-convert:hover {\n",
              "      background-color: #E2EBFA;\n",
              "      box-shadow: 0px 1px 2px rgba(60, 64, 67, 0.3), 0px 1px 3px 1px rgba(60, 64, 67, 0.15);\n",
              "      fill: #174EA6;\n",
              "    }\n",
              "\n",
              "    .colab-df-buttons div {\n",
              "      margin-bottom: 4px;\n",
              "    }\n",
              "\n",
              "    [theme=dark] .colab-df-convert {\n",
              "      background-color: #3B4455;\n",
              "      fill: #D2E3FC;\n",
              "    }\n",
              "\n",
              "    [theme=dark] .colab-df-convert:hover {\n",
              "      background-color: #434B5C;\n",
              "      box-shadow: 0px 1px 3px 1px rgba(0, 0, 0, 0.15);\n",
              "      filter: drop-shadow(0px 1px 2px rgba(0, 0, 0, 0.3));\n",
              "      fill: #FFFFFF;\n",
              "    }\n",
              "  </style>\n",
              "\n",
              "    <script>\n",
              "      const buttonEl =\n",
              "        document.querySelector('#df-d5563119-1f69-4b67-8c4f-f7689dc33254 button.colab-df-convert');\n",
              "      buttonEl.style.display =\n",
              "        google.colab.kernel.accessAllowed ? 'block' : 'none';\n",
              "\n",
              "      async function convertToInteractive(key) {\n",
              "        const element = document.querySelector('#df-d5563119-1f69-4b67-8c4f-f7689dc33254');\n",
              "        const dataTable =\n",
              "          await google.colab.kernel.invokeFunction('convertToInteractive',\n",
              "                                                    [key], {});\n",
              "        if (!dataTable) return;\n",
              "\n",
              "        const docLinkHtml = 'Like what you see? Visit the ' +\n",
              "          '<a target=\"_blank\" href=https://colab.research.google.com/notebooks/data_table.ipynb>data table notebook</a>'\n",
              "          + ' to learn more about interactive tables.';\n",
              "        element.innerHTML = '';\n",
              "        dataTable['output_type'] = 'display_data';\n",
              "        await google.colab.output.renderOutput(dataTable, element);\n",
              "        const docLink = document.createElement('div');\n",
              "        docLink.innerHTML = docLinkHtml;\n",
              "        element.appendChild(docLink);\n",
              "      }\n",
              "    </script>\n",
              "  </div>\n",
              "\n",
              "\n",
              "<div id=\"df-f63b163a-085d-4d7f-9fd9-305170b4a043\">\n",
              "  <button class=\"colab-df-quickchart\" onclick=\"quickchart('df-f63b163a-085d-4d7f-9fd9-305170b4a043')\"\n",
              "            title=\"Suggest charts\"\n",
              "            style=\"display:none;\">\n",
              "\n",
              "<svg xmlns=\"http://www.w3.org/2000/svg\" height=\"24px\"viewBox=\"0 0 24 24\"\n",
              "     width=\"24px\">\n",
              "    <g>\n",
              "        <path d=\"M19 3H5c-1.1 0-2 .9-2 2v14c0 1.1.9 2 2 2h14c1.1 0 2-.9 2-2V5c0-1.1-.9-2-2-2zM9 17H7v-7h2v7zm4 0h-2V7h2v10zm4 0h-2v-4h2v4z\"/>\n",
              "    </g>\n",
              "</svg>\n",
              "  </button>\n",
              "\n",
              "<style>\n",
              "  .colab-df-quickchart {\n",
              "      --bg-color: #E8F0FE;\n",
              "      --fill-color: #1967D2;\n",
              "      --hover-bg-color: #E2EBFA;\n",
              "      --hover-fill-color: #174EA6;\n",
              "      --disabled-fill-color: #AAA;\n",
              "      --disabled-bg-color: #DDD;\n",
              "  }\n",
              "\n",
              "  [theme=dark] .colab-df-quickchart {\n",
              "      --bg-color: #3B4455;\n",
              "      --fill-color: #D2E3FC;\n",
              "      --hover-bg-color: #434B5C;\n",
              "      --hover-fill-color: #FFFFFF;\n",
              "      --disabled-bg-color: #3B4455;\n",
              "      --disabled-fill-color: #666;\n",
              "  }\n",
              "\n",
              "  .colab-df-quickchart {\n",
              "    background-color: var(--bg-color);\n",
              "    border: none;\n",
              "    border-radius: 50%;\n",
              "    cursor: pointer;\n",
              "    display: none;\n",
              "    fill: var(--fill-color);\n",
              "    height: 32px;\n",
              "    padding: 0;\n",
              "    width: 32px;\n",
              "  }\n",
              "\n",
              "  .colab-df-quickchart:hover {\n",
              "    background-color: var(--hover-bg-color);\n",
              "    box-shadow: 0 1px 2px rgba(60, 64, 67, 0.3), 0 1px 3px 1px rgba(60, 64, 67, 0.15);\n",
              "    fill: var(--button-hover-fill-color);\n",
              "  }\n",
              "\n",
              "  .colab-df-quickchart-complete:disabled,\n",
              "  .colab-df-quickchart-complete:disabled:hover {\n",
              "    background-color: var(--disabled-bg-color);\n",
              "    fill: var(--disabled-fill-color);\n",
              "    box-shadow: none;\n",
              "  }\n",
              "\n",
              "  .colab-df-spinner {\n",
              "    border: 2px solid var(--fill-color);\n",
              "    border-color: transparent;\n",
              "    border-bottom-color: var(--fill-color);\n",
              "    animation:\n",
              "      spin 1s steps(1) infinite;\n",
              "  }\n",
              "\n",
              "  @keyframes spin {\n",
              "    0% {\n",
              "      border-color: transparent;\n",
              "      border-bottom-color: var(--fill-color);\n",
              "      border-left-color: var(--fill-color);\n",
              "    }\n",
              "    20% {\n",
              "      border-color: transparent;\n",
              "      border-left-color: var(--fill-color);\n",
              "      border-top-color: var(--fill-color);\n",
              "    }\n",
              "    30% {\n",
              "      border-color: transparent;\n",
              "      border-left-color: var(--fill-color);\n",
              "      border-top-color: var(--fill-color);\n",
              "      border-right-color: var(--fill-color);\n",
              "    }\n",
              "    40% {\n",
              "      border-color: transparent;\n",
              "      border-right-color: var(--fill-color);\n",
              "      border-top-color: var(--fill-color);\n",
              "    }\n",
              "    60% {\n",
              "      border-color: transparent;\n",
              "      border-right-color: var(--fill-color);\n",
              "    }\n",
              "    80% {\n",
              "      border-color: transparent;\n",
              "      border-right-color: var(--fill-color);\n",
              "      border-bottom-color: var(--fill-color);\n",
              "    }\n",
              "    90% {\n",
              "      border-color: transparent;\n",
              "      border-bottom-color: var(--fill-color);\n",
              "    }\n",
              "  }\n",
              "</style>\n",
              "\n",
              "  <script>\n",
              "    async function quickchart(key) {\n",
              "      const quickchartButtonEl =\n",
              "        document.querySelector('#' + key + ' button');\n",
              "      quickchartButtonEl.disabled = true;  // To prevent multiple clicks.\n",
              "      quickchartButtonEl.classList.add('colab-df-spinner');\n",
              "      try {\n",
              "        const charts = await google.colab.kernel.invokeFunction(\n",
              "            'suggestCharts', [key], {});\n",
              "      } catch (error) {\n",
              "        console.error('Error during call to suggestCharts:', error);\n",
              "      }\n",
              "      quickchartButtonEl.classList.remove('colab-df-spinner');\n",
              "      quickchartButtonEl.classList.add('colab-df-quickchart-complete');\n",
              "    }\n",
              "    (() => {\n",
              "      let quickchartButtonEl =\n",
              "        document.querySelector('#df-f63b163a-085d-4d7f-9fd9-305170b4a043 button');\n",
              "      quickchartButtonEl.style.display =\n",
              "        google.colab.kernel.accessAllowed ? 'block' : 'none';\n",
              "    })();\n",
              "  </script>\n",
              "</div>\n",
              "\n",
              "    </div>\n",
              "  </div>\n"
            ],
            "application/vnd.google.colaboratory.intrinsic+json": {
              "type": "dataframe",
              "variable_name": "aapl_calls",
              "summary": "{\n  \"name\": \"aapl_calls\",\n  \"rows\": 92,\n  \"fields\": [\n    {\n      \"column\": \"contractSymbol\",\n      \"properties\": {\n        \"dtype\": \"string\",\n        \"num_unique_values\": 92,\n        \"samples\": [\n          \"AAPL250117C00205000\",\n          \"AAPL250117C00115000\",\n          \"AAPL250117C00242500\"\n        ],\n        \"semantic_type\": \"\",\n        \"description\": \"\"\n      }\n    },\n    {\n      \"column\": \"lastTradeDate\",\n      \"properties\": {\n        \"dtype\": \"date\",\n        \"min\": \"2024-11-21 20:43:23+00:00\",\n        \"max\": \"2025-01-16 20:59:59+00:00\",\n        \"num_unique_values\": 87,\n        \"samples\": [\n          \"2024-12-24 16:55:05+00:00\",\n          \"2025-01-15 14:48:02+00:00\",\n          \"2025-01-16 20:34:38+00:00\"\n        ],\n        \"semantic_type\": \"\",\n        \"description\": \"\"\n      }\n    },\n    {\n      \"column\": \"strike\",\n      \"properties\": {\n        \"dtype\": \"number\",\n        \"std\": 102.6733556705149,\n        \"min\": 5.0,\n        \"max\": 380.0,\n        \"num_unique_values\": 92,\n        \"samples\": [\n          205.0,\n          115.0,\n          242.5\n        ],\n        \"semantic_type\": \"\",\n        \"description\": \"\"\n      }\n    },\n    {\n      \"column\": \"lastPrice\",\n      \"properties\": {\n        \"dtype\": \"number\",\n        \"std\": 76.57576333999997,\n        \"min\": 0.01,\n        \"max\": 240.87,\n        \"num_unique_values\": 59,\n        \"samples\": [\n          232.65,\n          224.0,\n          54.04\n        ],\n        \"semantic_type\": \"\",\n        \"description\": \"\"\n      }\n    },\n    {\n      \"column\": \"bid\",\n      \"properties\": {\n        \"dtype\": \"number\",\n        \"std\": 72.83042992872205,\n        \"min\": 0.0,\n        \"max\": 222.75,\n        \"num_unique_values\": 59,\n        \"samples\": [\n          222.75,\n          197.7,\n          52.95\n        ],\n        \"semantic_type\": \"\",\n        \"description\": \"\"\n      }\n    },\n    {\n      \"column\": \"ask\",\n      \"properties\": {\n        \"dtype\": \"number\",\n        \"std\": 73.39812680692151,\n        \"min\": 0.0,\n        \"max\": 223.7,\n        \"num_unique_values\": 60,\n        \"samples\": [\n          223.7,\n          198.95,\n          43.6\n        ],\n        \"semantic_type\": \"\",\n        \"description\": \"\"\n      }\n    },\n    {\n      \"column\": \"change\",\n      \"properties\": {\n        \"dtype\": \"number\",\n        \"std\": 4.965368684113488,\n        \"min\": -25.060013,\n        \"max\": 3.180008,\n        \"num_unique_values\": 44,\n        \"samples\": [\n          -5.2200003,\n          -9.599998,\n          -9.5\n        ],\n        \"semantic_type\": \"\",\n        \"description\": \"\"\n      }\n    },\n    {\n      \"column\": \"percentChange\",\n      \"properties\": {\n        \"dtype\": \"number\",\n        \"std\": 25.97753377077726,\n        \"min\": -95.336784,\n        \"max\": 1.9505662,\n        \"num_unique_values\": 45,\n        \"samples\": [\n          -94.99999,\n          -22.310015,\n          -24.96715\n        ],\n        \"semantic_type\": \"\",\n        \"description\": \"\"\n      }\n    },\n    {\n      \"column\": \"volume\",\n      \"properties\": {\n        \"dtype\": \"number\",\n        \"std\": 19608,\n        \"min\": 1,\n        \"max\": 105369,\n        \"num_unique_values\": 58,\n        \"samples\": [\n          1,\n          6,\n          949\n        ],\n        \"semantic_type\": \"\",\n        \"description\": \"\"\n      }\n    },\n    {\n      \"column\": \"openInterest\",\n      \"properties\": {\n        \"dtype\": \"number\",\n        \"std\": 26192,\n        \"min\": 0,\n        \"max\": 148212,\n        \"num_unique_values\": 90,\n        \"samples\": [\n          688,\n          7173,\n          10920\n        ],\n        \"semantic_type\": \"\",\n        \"description\": \"\"\n      }\n    },\n    {\n      \"column\": \"impliedVolatility\",\n      \"properties\": {\n        \"dtype\": \"number\",\n        \"std\": 5.385427865710365,\n        \"min\": 0.2688061401367187,\n        \"max\": 34.37500462890625,\n        \"num_unique_values\": 91,\n        \"samples\": [\n          0.6816438085937502,\n          5.000003749999999,\n          0.39649041015625003\n        ],\n        \"semantic_type\": \"\",\n        \"description\": \"\"\n      }\n    },\n    {\n      \"column\": \"inTheMoney\",\n      \"properties\": {\n        \"dtype\": \"boolean\",\n        \"num_unique_values\": 2,\n        \"samples\": [\n          false,\n          true\n        ],\n        \"semantic_type\": \"\",\n        \"description\": \"\"\n      }\n    },\n    {\n      \"column\": \"contractSize\",\n      \"properties\": {\n        \"dtype\": \"category\",\n        \"num_unique_values\": 1,\n        \"samples\": [\n          \"REGULAR\"\n        ],\n        \"semantic_type\": \"\",\n        \"description\": \"\"\n      }\n    },\n    {\n      \"column\": \"currency\",\n      \"properties\": {\n        \"dtype\": \"category\",\n        \"num_unique_values\": 1,\n        \"samples\": [\n          \"USD\"\n        ],\n        \"semantic_type\": \"\",\n        \"description\": \"\"\n      }\n    }\n  ]\n}"
            }
          },
          "metadata": {},
          "execution_count": 4
        }
      ]
    },
    {
      "cell_type": "markdown",
      "source": [
        "## **Data Preprocessing & Feature Engineering**"
      ],
      "metadata": {
        "id": "kUTONjxtlYG6"
      }
    },
    {
      "cell_type": "markdown",
      "source": [
        "Below we will begin preprocessing the data and generating the features we will train our model on. We start off by cleaning the data:"
      ],
      "metadata": {
        "id": "g-anqErizr7U"
      }
    },
    {
      "cell_type": "code",
      "source": [
        "# Clean the data\n",
        "aapl_calls_cleaned = aapl_calls.dropna()\n",
        "aapl_puts_cleaned = aapl_puts.dropna()"
      ],
      "metadata": {
        "id": "2248htRd0zBA"
      },
      "execution_count": 5,
      "outputs": []
    },
    {
      "cell_type": "markdown",
      "source": [
        "Now we create the features that we will train the model on. In this case, we will train the model on **days to expiration** and **log moneyness**, as well as **implied volatility** which is already included in the dataset.\n",
        "Days to Expiration just signifies how many days are left until the option contract expires. This is important as when the contract expires, it can either be **in the money (ITM)**, **out the money (OTM)**, or **at the money (ATM)** which is known as the option's moneyness. This is where log moneyness comes in. Log moneyness is a measure used to determine an option's price relative to the underlying strike price. A log moneyness > 0 indicates an option is in the money, log moneyness = 0 is at the money, and log moneyness < 0 is out the money. This is important because by the time an option contract expires if it is not ITM then it is worthless.\n",
        "We create these features below:"
      ],
      "metadata": {
        "id": "t6UCRFUr04Ro"
      }
    },
    {
      "cell_type": "code",
      "source": [
        "# Create Features\n",
        "\n",
        "# Time to expiration\n",
        "aapl_calls_cleaned['days_to_expiration'] = (pd.to_datetime(expir_date) - pd.to_datetime('today')).days\n",
        "aapl_puts_cleaned['days_to_expiration'] = (pd.to_datetime(expir_date) - pd.to_datetime('today')).days\n",
        "\n",
        "# Log Moneyness\n",
        "aapl_calls_cleaned['logMoneyness'] = np.log(aapl_calls_cleaned['lastPrice'] / aapl_calls_cleaned['strike'])\n",
        "aapl_puts_cleaned['logMoneyness'] = np.log(aapl_puts_cleaned['lastPrice'] / aapl_puts_cleaned['strike'])\n",
        "\n",
        "# Combine necessary features\n",
        "aapl_calls_features = aapl_calls_cleaned[['days_to_expiration', 'logMoneyness', 'impliedVolatility', 'lastPrice']]\n",
        "aapl_puts_features = aapl_puts_cleaned[['days_to_expiration', 'logMoneyness', 'impliedVolatility', 'lastPrice']]\n",
        "\n",
        "aapl_calls_features.head()"
      ],
      "metadata": {
        "colab": {
          "base_uri": "https://localhost:8080/",
          "height": 414
        },
        "id": "-zDbtCsDkrYi",
        "outputId": "1d84b313-595e-43cb-eaf3-d03647701ad8"
      },
      "execution_count": 6,
      "outputs": [
        {
          "output_type": "stream",
          "name": "stderr",
          "text": [
            "<ipython-input-6-ab8a741843b9>:5: SettingWithCopyWarning: \n",
            "A value is trying to be set on a copy of a slice from a DataFrame.\n",
            "Try using .loc[row_indexer,col_indexer] = value instead\n",
            "\n",
            "See the caveats in the documentation: https://pandas.pydata.org/pandas-docs/stable/user_guide/indexing.html#returning-a-view-versus-a-copy\n",
            "  aapl_puts_cleaned['days_to_expiration'] = (pd.to_datetime(expir_date) - pd.to_datetime('today')).days\n",
            "<ipython-input-6-ab8a741843b9>:9: SettingWithCopyWarning: \n",
            "A value is trying to be set on a copy of a slice from a DataFrame.\n",
            "Try using .loc[row_indexer,col_indexer] = value instead\n",
            "\n",
            "See the caveats in the documentation: https://pandas.pydata.org/pandas-docs/stable/user_guide/indexing.html#returning-a-view-versus-a-copy\n",
            "  aapl_puts_cleaned['logMoneyness'] = np.log(aapl_puts_cleaned['lastPrice'] / aapl_puts_cleaned['strike'])\n"
          ]
        },
        {
          "output_type": "execute_result",
          "data": {
            "text/plain": [
              "   days_to_expiration  logMoneyness  impliedVolatility  lastPrice\n",
              "0                   0      3.840097          26.437502     232.65\n",
              "1                   0      3.181672          16.062505     240.87\n",
              "2                   0      2.679193          15.406250     218.60\n",
              "3                   0      2.382182          12.312502     216.57\n",
              "4                   0      2.157606          15.164063     216.26"
            ],
            "text/html": [
              "\n",
              "  <div id=\"df-5cadf255-e3de-4ec3-afdd-1d17ce2421e9\" class=\"colab-df-container\">\n",
              "    <div>\n",
              "<style scoped>\n",
              "    .dataframe tbody tr th:only-of-type {\n",
              "        vertical-align: middle;\n",
              "    }\n",
              "\n",
              "    .dataframe tbody tr th {\n",
              "        vertical-align: top;\n",
              "    }\n",
              "\n",
              "    .dataframe thead th {\n",
              "        text-align: right;\n",
              "    }\n",
              "</style>\n",
              "<table border=\"1\" class=\"dataframe\">\n",
              "  <thead>\n",
              "    <tr style=\"text-align: right;\">\n",
              "      <th></th>\n",
              "      <th>days_to_expiration</th>\n",
              "      <th>logMoneyness</th>\n",
              "      <th>impliedVolatility</th>\n",
              "      <th>lastPrice</th>\n",
              "    </tr>\n",
              "  </thead>\n",
              "  <tbody>\n",
              "    <tr>\n",
              "      <th>0</th>\n",
              "      <td>0</td>\n",
              "      <td>3.840097</td>\n",
              "      <td>26.437502</td>\n",
              "      <td>232.65</td>\n",
              "    </tr>\n",
              "    <tr>\n",
              "      <th>1</th>\n",
              "      <td>0</td>\n",
              "      <td>3.181672</td>\n",
              "      <td>16.062505</td>\n",
              "      <td>240.87</td>\n",
              "    </tr>\n",
              "    <tr>\n",
              "      <th>2</th>\n",
              "      <td>0</td>\n",
              "      <td>2.679193</td>\n",
              "      <td>15.406250</td>\n",
              "      <td>218.60</td>\n",
              "    </tr>\n",
              "    <tr>\n",
              "      <th>3</th>\n",
              "      <td>0</td>\n",
              "      <td>2.382182</td>\n",
              "      <td>12.312502</td>\n",
              "      <td>216.57</td>\n",
              "    </tr>\n",
              "    <tr>\n",
              "      <th>4</th>\n",
              "      <td>0</td>\n",
              "      <td>2.157606</td>\n",
              "      <td>15.164063</td>\n",
              "      <td>216.26</td>\n",
              "    </tr>\n",
              "  </tbody>\n",
              "</table>\n",
              "</div>\n",
              "    <div class=\"colab-df-buttons\">\n",
              "\n",
              "  <div class=\"colab-df-container\">\n",
              "    <button class=\"colab-df-convert\" onclick=\"convertToInteractive('df-5cadf255-e3de-4ec3-afdd-1d17ce2421e9')\"\n",
              "            title=\"Convert this dataframe to an interactive table.\"\n",
              "            style=\"display:none;\">\n",
              "\n",
              "  <svg xmlns=\"http://www.w3.org/2000/svg\" height=\"24px\" viewBox=\"0 -960 960 960\">\n",
              "    <path d=\"M120-120v-720h720v720H120Zm60-500h600v-160H180v160Zm220 220h160v-160H400v160Zm0 220h160v-160H400v160ZM180-400h160v-160H180v160Zm440 0h160v-160H620v160ZM180-180h160v-160H180v160Zm440 0h160v-160H620v160Z\"/>\n",
              "  </svg>\n",
              "    </button>\n",
              "\n",
              "  <style>\n",
              "    .colab-df-container {\n",
              "      display:flex;\n",
              "      gap: 12px;\n",
              "    }\n",
              "\n",
              "    .colab-df-convert {\n",
              "      background-color: #E8F0FE;\n",
              "      border: none;\n",
              "      border-radius: 50%;\n",
              "      cursor: pointer;\n",
              "      display: none;\n",
              "      fill: #1967D2;\n",
              "      height: 32px;\n",
              "      padding: 0 0 0 0;\n",
              "      width: 32px;\n",
              "    }\n",
              "\n",
              "    .colab-df-convert:hover {\n",
              "      background-color: #E2EBFA;\n",
              "      box-shadow: 0px 1px 2px rgba(60, 64, 67, 0.3), 0px 1px 3px 1px rgba(60, 64, 67, 0.15);\n",
              "      fill: #174EA6;\n",
              "    }\n",
              "\n",
              "    .colab-df-buttons div {\n",
              "      margin-bottom: 4px;\n",
              "    }\n",
              "\n",
              "    [theme=dark] .colab-df-convert {\n",
              "      background-color: #3B4455;\n",
              "      fill: #D2E3FC;\n",
              "    }\n",
              "\n",
              "    [theme=dark] .colab-df-convert:hover {\n",
              "      background-color: #434B5C;\n",
              "      box-shadow: 0px 1px 3px 1px rgba(0, 0, 0, 0.15);\n",
              "      filter: drop-shadow(0px 1px 2px rgba(0, 0, 0, 0.3));\n",
              "      fill: #FFFFFF;\n",
              "    }\n",
              "  </style>\n",
              "\n",
              "    <script>\n",
              "      const buttonEl =\n",
              "        document.querySelector('#df-5cadf255-e3de-4ec3-afdd-1d17ce2421e9 button.colab-df-convert');\n",
              "      buttonEl.style.display =\n",
              "        google.colab.kernel.accessAllowed ? 'block' : 'none';\n",
              "\n",
              "      async function convertToInteractive(key) {\n",
              "        const element = document.querySelector('#df-5cadf255-e3de-4ec3-afdd-1d17ce2421e9');\n",
              "        const dataTable =\n",
              "          await google.colab.kernel.invokeFunction('convertToInteractive',\n",
              "                                                    [key], {});\n",
              "        if (!dataTable) return;\n",
              "\n",
              "        const docLinkHtml = 'Like what you see? Visit the ' +\n",
              "          '<a target=\"_blank\" href=https://colab.research.google.com/notebooks/data_table.ipynb>data table notebook</a>'\n",
              "          + ' to learn more about interactive tables.';\n",
              "        element.innerHTML = '';\n",
              "        dataTable['output_type'] = 'display_data';\n",
              "        await google.colab.output.renderOutput(dataTable, element);\n",
              "        const docLink = document.createElement('div');\n",
              "        docLink.innerHTML = docLinkHtml;\n",
              "        element.appendChild(docLink);\n",
              "      }\n",
              "    </script>\n",
              "  </div>\n",
              "\n",
              "\n",
              "<div id=\"df-4e86cdd6-9b60-4fbb-8d2f-a1a909fa1b54\">\n",
              "  <button class=\"colab-df-quickchart\" onclick=\"quickchart('df-4e86cdd6-9b60-4fbb-8d2f-a1a909fa1b54')\"\n",
              "            title=\"Suggest charts\"\n",
              "            style=\"display:none;\">\n",
              "\n",
              "<svg xmlns=\"http://www.w3.org/2000/svg\" height=\"24px\"viewBox=\"0 0 24 24\"\n",
              "     width=\"24px\">\n",
              "    <g>\n",
              "        <path d=\"M19 3H5c-1.1 0-2 .9-2 2v14c0 1.1.9 2 2 2h14c1.1 0 2-.9 2-2V5c0-1.1-.9-2-2-2zM9 17H7v-7h2v7zm4 0h-2V7h2v10zm4 0h-2v-4h2v4z\"/>\n",
              "    </g>\n",
              "</svg>\n",
              "  </button>\n",
              "\n",
              "<style>\n",
              "  .colab-df-quickchart {\n",
              "      --bg-color: #E8F0FE;\n",
              "      --fill-color: #1967D2;\n",
              "      --hover-bg-color: #E2EBFA;\n",
              "      --hover-fill-color: #174EA6;\n",
              "      --disabled-fill-color: #AAA;\n",
              "      --disabled-bg-color: #DDD;\n",
              "  }\n",
              "\n",
              "  [theme=dark] .colab-df-quickchart {\n",
              "      --bg-color: #3B4455;\n",
              "      --fill-color: #D2E3FC;\n",
              "      --hover-bg-color: #434B5C;\n",
              "      --hover-fill-color: #FFFFFF;\n",
              "      --disabled-bg-color: #3B4455;\n",
              "      --disabled-fill-color: #666;\n",
              "  }\n",
              "\n",
              "  .colab-df-quickchart {\n",
              "    background-color: var(--bg-color);\n",
              "    border: none;\n",
              "    border-radius: 50%;\n",
              "    cursor: pointer;\n",
              "    display: none;\n",
              "    fill: var(--fill-color);\n",
              "    height: 32px;\n",
              "    padding: 0;\n",
              "    width: 32px;\n",
              "  }\n",
              "\n",
              "  .colab-df-quickchart:hover {\n",
              "    background-color: var(--hover-bg-color);\n",
              "    box-shadow: 0 1px 2px rgba(60, 64, 67, 0.3), 0 1px 3px 1px rgba(60, 64, 67, 0.15);\n",
              "    fill: var(--button-hover-fill-color);\n",
              "  }\n",
              "\n",
              "  .colab-df-quickchart-complete:disabled,\n",
              "  .colab-df-quickchart-complete:disabled:hover {\n",
              "    background-color: var(--disabled-bg-color);\n",
              "    fill: var(--disabled-fill-color);\n",
              "    box-shadow: none;\n",
              "  }\n",
              "\n",
              "  .colab-df-spinner {\n",
              "    border: 2px solid var(--fill-color);\n",
              "    border-color: transparent;\n",
              "    border-bottom-color: var(--fill-color);\n",
              "    animation:\n",
              "      spin 1s steps(1) infinite;\n",
              "  }\n",
              "\n",
              "  @keyframes spin {\n",
              "    0% {\n",
              "      border-color: transparent;\n",
              "      border-bottom-color: var(--fill-color);\n",
              "      border-left-color: var(--fill-color);\n",
              "    }\n",
              "    20% {\n",
              "      border-color: transparent;\n",
              "      border-left-color: var(--fill-color);\n",
              "      border-top-color: var(--fill-color);\n",
              "    }\n",
              "    30% {\n",
              "      border-color: transparent;\n",
              "      border-left-color: var(--fill-color);\n",
              "      border-top-color: var(--fill-color);\n",
              "      border-right-color: var(--fill-color);\n",
              "    }\n",
              "    40% {\n",
              "      border-color: transparent;\n",
              "      border-right-color: var(--fill-color);\n",
              "      border-top-color: var(--fill-color);\n",
              "    }\n",
              "    60% {\n",
              "      border-color: transparent;\n",
              "      border-right-color: var(--fill-color);\n",
              "    }\n",
              "    80% {\n",
              "      border-color: transparent;\n",
              "      border-right-color: var(--fill-color);\n",
              "      border-bottom-color: var(--fill-color);\n",
              "    }\n",
              "    90% {\n",
              "      border-color: transparent;\n",
              "      border-bottom-color: var(--fill-color);\n",
              "    }\n",
              "  }\n",
              "</style>\n",
              "\n",
              "  <script>\n",
              "    async function quickchart(key) {\n",
              "      const quickchartButtonEl =\n",
              "        document.querySelector('#' + key + ' button');\n",
              "      quickchartButtonEl.disabled = true;  // To prevent multiple clicks.\n",
              "      quickchartButtonEl.classList.add('colab-df-spinner');\n",
              "      try {\n",
              "        const charts = await google.colab.kernel.invokeFunction(\n",
              "            'suggestCharts', [key], {});\n",
              "      } catch (error) {\n",
              "        console.error('Error during call to suggestCharts:', error);\n",
              "      }\n",
              "      quickchartButtonEl.classList.remove('colab-df-spinner');\n",
              "      quickchartButtonEl.classList.add('colab-df-quickchart-complete');\n",
              "    }\n",
              "    (() => {\n",
              "      let quickchartButtonEl =\n",
              "        document.querySelector('#df-4e86cdd6-9b60-4fbb-8d2f-a1a909fa1b54 button');\n",
              "      quickchartButtonEl.style.display =\n",
              "        google.colab.kernel.accessAllowed ? 'block' : 'none';\n",
              "    })();\n",
              "  </script>\n",
              "</div>\n",
              "\n",
              "    </div>\n",
              "  </div>\n"
            ],
            "application/vnd.google.colaboratory.intrinsic+json": {
              "type": "dataframe",
              "variable_name": "aapl_calls_features",
              "summary": "{\n  \"name\": \"aapl_calls_features\",\n  \"rows\": 92,\n  \"fields\": [\n    {\n      \"column\": \"days_to_expiration\",\n      \"properties\": {\n        \"dtype\": \"number\",\n        \"std\": 0,\n        \"min\": 0,\n        \"max\": 0,\n        \"num_unique_values\": 1,\n        \"samples\": [\n          0\n        ],\n        \"semantic_type\": \"\",\n        \"description\": \"\"\n      }\n    },\n    {\n      \"column\": \"logMoneyness\",\n      \"properties\": {\n        \"dtype\": \"number\",\n        \"std\": 5.01473229207407,\n        \"min\": -10.545341438708522,\n        \"max\": 3.8400972658565573,\n        \"num_unique_values\": 92,\n        \"samples\": [\n          -2.178857700466144\n        ],\n        \"semantic_type\": \"\",\n        \"description\": \"\"\n      }\n    },\n    {\n      \"column\": \"impliedVolatility\",\n      \"properties\": {\n        \"dtype\": \"number\",\n        \"std\": 5.385427865710365,\n        \"min\": 0.2688061401367187,\n        \"max\": 34.37500462890625,\n        \"num_unique_values\": 91,\n        \"samples\": [\n          0.6816438085937502\n        ],\n        \"semantic_type\": \"\",\n        \"description\": \"\"\n      }\n    },\n    {\n      \"column\": \"lastPrice\",\n      \"properties\": {\n        \"dtype\": \"number\",\n        \"std\": 76.57576333999997,\n        \"min\": 0.01,\n        \"max\": 240.87,\n        \"num_unique_values\": 59,\n        \"samples\": [\n          232.65\n        ],\n        \"semantic_type\": \"\",\n        \"description\": \"\"\n      }\n    }\n  ]\n}"
            }
          },
          "metadata": {},
          "execution_count": 6
        }
      ]
    },
    {
      "cell_type": "markdown",
      "source": [
        "## **Exploratory Data Analysis (EDA)**"
      ],
      "metadata": {
        "id": "FpHOefSrrVOp"
      }
    },
    {
      "cell_type": "markdown",
      "source": [
        "Now we can explore the data some. Let's look at the distribution of the underlying strike prices for both calls and puts:"
      ],
      "metadata": {
        "id": "mMkHy5vZ4yD-"
      }
    },
    {
      "cell_type": "code",
      "source": [
        "# Plot distribution of Strike Prices\n",
        "plt.figure(figsize=(10, 6))\n",
        "plt.hist(aapl_calls_cleaned['strike'], bins=30, color='skyblue', edgecolor='black')\n",
        "plt.title('Distribution of Strike Prices for Apple Calls')\n",
        "plt.xlabel('Strike Price')"
      ],
      "metadata": {
        "colab": {
          "base_uri": "https://localhost:8080/",
          "height": 581
        },
        "id": "RTd70156qhez",
        "outputId": "631fcfcd-1d14-4dcc-a473-8c0a03446649"
      },
      "execution_count": 7,
      "outputs": [
        {
          "output_type": "execute_result",
          "data": {
            "text/plain": [
              "Text(0.5, 0, 'Strike Price')"
            ]
          },
          "metadata": {},
          "execution_count": 7
        },
        {
          "output_type": "display_data",
          "data": {
            "text/plain": [
              "<Figure size 1000x600 with 1 Axes>"
            ],
            "image/png": "[encoded data removed]"
          },
          "metadata": {}
        }
      ]
    },
    {
      "cell_type": "code",
      "source": [
        "plt.figure(figsize=(10, 6))\n",
        "plt.hist(aapl_puts_cleaned['strike'], bins=30, color='skyblue', edgecolor='black')\n",
        "plt.title('Distribution of Strike Prices for Apple Puts')\n",
        "plt.xlabel('Strike Price')"
      ],
      "metadata": {
        "colab": {
          "base_uri": "https://localhost:8080/",
          "height": 581
        },
        "id": "veGCwLJkr4go",
        "outputId": "7b234792-9c12-439b-91fc-e6cf4948b026"
      },
      "execution_count": 8,
      "outputs": [
        {
          "output_type": "execute_result",
          "data": {
            "text/plain": [
              "Text(0.5, 0, 'Strike Price')"
            ]
          },
          "metadata": {},
          "execution_count": 8
        },
        {
          "output_type": "display_data",
          "data": {
            "text/plain": [
              "<Figure size 1000x600 with 1 Axes>"
            ],
            "image/png": "[encoded data removed]"
          },
          "metadata": {}
        }
      ]
    },
    {
      "cell_type": "markdown",
      "source": [
        "Now we can look at the distribution of options prices for both as well:"
      ],
      "metadata": {
        "id": "atT9lzja5UF5"
      }
    },
    {
      "cell_type": "code",
      "source": [
        "# Plot distribution of options prices\n",
        "plt.figure(figsize=(10, 6))\n",
        "plt.hist(aapl_calls_cleaned['lastPrice'], bins=20, color='skyblue', edgecolor='black')\n",
        "plt.title('Distribution of Options Prices for Appl Calls')"
      ],
      "metadata": {
        "colab": {
          "base_uri": "https://localhost:8080/",
          "height": 562
        },
        "id": "QC7tkZATsApa",
        "outputId": "8a5c93a4-00f9-48f0-ecd1-7376aa28306c"
      },
      "execution_count": 9,
      "outputs": [
        {
          "output_type": "execute_result",
          "data": {
            "text/plain": [
              "Text(0.5, 1.0, 'Distribution of Options Prices for Appl Calls')"
            ]
          },
          "metadata": {},
          "execution_count": 9
        },
        {
          "output_type": "display_data",
          "data": {
            "text/plain": [
              "<Figure size 1000x600 with 1 Axes>"
            ],
            "image/png": "[encoded data removed]"
          },
          "metadata": {}
        }
      ]
    },
    {
      "cell_type": "code",
      "source": [
        "avg_calls_price = aapl_calls_cleaned['lastPrice'].mean()\n",
        "print(f'Average call price: {avg_calls_price}')"
      ],
      "metadata": {
        "colab": {
          "base_uri": "https://localhost:8080/"
        },
        "id": "-Y7OfKCuvZn6",
        "outputId": "7028825d-1121-492f-8a48-6013b71997eb"
      },
      "execution_count": 10,
      "outputs": [
        {
          "output_type": "stream",
          "name": "stdout",
          "text": [
            "Average call price: 58.38913043478261\n"
          ]
        }
      ]
    },
    {
      "cell_type": "code",
      "source": [
        "plt.figure(figsize=(10, 6))\n",
        "plt.hist(aapl_puts_cleaned['lastPrice'], bins=20, color='skyblue', edgecolor='black')\n",
        "plt.title('Distribution of Options Prices for Apple Puts')"
      ],
      "metadata": {
        "colab": {
          "base_uri": "https://localhost:8080/",
          "height": 562
        },
        "id": "BbJQlQqPsgis",
        "outputId": "8b255df5-44a0-4a55-deb4-a2f217ddf0e4"
      },
      "execution_count": 11,
      "outputs": [
        {
          "output_type": "execute_result",
          "data": {
            "text/plain": [
              "Text(0.5, 1.0, 'Distribution of Options Prices for Apple Puts')"
            ]
          },
          "metadata": {},
          "execution_count": 11
        },
        {
          "output_type": "display_data",
          "data": {
            "text/plain": [
              "<Figure size 1000x600 with 1 Axes>"
            ],
            "image/png": "[encoded data removed]"
          },
          "metadata": {}
        }
      ]
    },
    {
      "cell_type": "code",
      "source": [
        "avg_puts_price = aapl_puts_cleaned['lastPrice'].mean()\n",
        "print(f'Average put price: {avg_puts_price}')"
      ],
      "metadata": {
        "colab": {
          "base_uri": "https://localhost:8080/"
        },
        "id": "jux0Yu-FviG9",
        "outputId": "448dd196-eb6f-4506-bf24-340ce866ef85"
      },
      "execution_count": 12,
      "outputs": [
        {
          "output_type": "stream",
          "name": "stdout",
          "text": [
            "Average put price: 19.532272727272723\n"
          ]
        }
      ]
    },
    {
      "cell_type": "markdown",
      "source": [
        "And the distribution of moneyness as well:"
      ],
      "metadata": {
        "id": "Z2j-m8sO5d5q"
      }
    },
    {
      "cell_type": "code",
      "source": [
        "# Plot distribution of Moneyness\n",
        "plt.figure(figsize=(10, 6))\n",
        "plt.hist(aapl_calls_cleaned['logMoneyness'], bins=30, color='skyblue', edgecolor='black')\n",
        "plt.title('Distribution of Moneyness for Appl Calls')"
      ],
      "metadata": {
        "colab": {
          "base_uri": "https://localhost:8080/",
          "height": 562
        },
        "id": "P7dJ7VQ_s3ki",
        "outputId": "a00b6dc0-4d36-4b0d-b0eb-1421f5a3321b"
      },
      "execution_count": 13,
      "outputs": [
        {
          "output_type": "execute_result",
          "data": {
            "text/plain": [
              "Text(0.5, 1.0, 'Distribution of Moneyness for Appl Calls')"
            ]
          },
          "metadata": {},
          "execution_count": 13
        },
        {
          "output_type": "display_data",
          "data": {
            "text/plain": [
              "<Figure size 1000x600 with 1 Axes>"
            ],
            "image/png": "[encoded data removed]"
          },
          "metadata": {}
        }
      ]
    },
    {
      "cell_type": "code",
      "source": [
        "plt.figure(figsize=(10, 6))\n",
        "plt.hist(aapl_puts_cleaned['logMoneyness'], bins=30, color='skyblue', edgecolor='black')\n",
        "plt.title('Distribution of Moneyness for Appl Puts')"
      ],
      "metadata": {
        "colab": {
          "base_uri": "https://localhost:8080/",
          "height": 562
        },
        "id": "cXXwQK5KtSja",
        "outputId": "58fda130-3ce3-43b9-fad8-d09d5a485f84"
      },
      "execution_count": 14,
      "outputs": [
        {
          "output_type": "execute_result",
          "data": {
            "text/plain": [
              "Text(0.5, 1.0, 'Distribution of Moneyness for Appl Puts')"
            ]
          },
          "metadata": {},
          "execution_count": 14
        },
        {
          "output_type": "display_data",
          "data": {
            "text/plain": [
              "<Figure size 1000x600 with 1 Axes>"
            ],
            "image/png": "[encoded data removed]"
          },
          "metadata": {}
        }
      ]
    },
    {
      "cell_type": "markdown",
      "source": [
        "## **Model Development & Training**"
      ],
      "metadata": {
        "id": "SZ_8F2gdtsnc"
      }
    },
    {
      "cell_type": "markdown",
      "source": [
        "Now to begin developing and training the model for prediction. The model we will be using is a **Random Forest Regressor**. We will train each model separately and evaluate it by it's **MSE, RMSE, MAPE,** and **PEX% (5%, 10%, 20%)**.\n",
        "\n",
        "**Mean Squared Error (MSE)**: The MSE of the model is the average of the squared differences between the model's predictions and the actual values. This is commonly used in evaluating predicitive models as it provides increased penalty for larger errors due to squaring.\n",
        "\n",
        "**Root Mean Squared Error (RMSE)**: The RMSE of the model is the square root of the MSE and provides the average prediction error in the same unit as the target variable (e.g. RMSE of 5 indicates the model's predictions being on average $5 off the actual price).\n",
        "\n",
        "**Mean Absolute Percentage Error (MAPE)**: The MAPE is the average percentage error of the model (e.g. MAPE of 5% indicates the model's predictions being 5% off the actual price on average).\n",
        "\n",
        "**Percentage of Predictions within X% (PEX%)**: The PEX% shows how many of the model's predictions were within a certain percentage of the true values (e.g. PEX 5% of 10% indicates 10% of  the model's predictions are within 5% of the actual price)."
      ],
      "metadata": {
        "id": "RiTl7H7Y5rbD"
      }
    },
    {
      "cell_type": "markdown",
      "source": [
        "First the calls model:"
      ],
      "metadata": {
        "id": "jZojBBhIt8vK"
      }
    },
    {
      "cell_type": "code",
      "source": [
        "# Prepare X, y variables\n",
        "callsX = aapl_calls_features.drop('lastPrice', axis=1)\n",
        "callsY = aapl_calls_features['lastPrice']\n",
        "\n",
        "X_train, X_test, y_train, y_test = train_test_split(callsX, callsY, test_size=0.2, random_state=42)\n",
        "\n",
        "# Standardize the data\n",
        "scaler = StandardScaler()\n",
        "X_train_scaled = scaler.fit_transform(X_train)\n",
        "X_test_scaled = scaler.transform(X_test)\n",
        "\n",
        "# Train the model\n",
        "callsModel = RandomForestRegressor(n_estimators= 100, random_state=42)\n",
        "callsModel.fit(X_train_scaled, y_train)\n",
        "\n",
        "# Predict\n",
        "calls_predictions = callsModel.predict(X_test_scaled)\n",
        "\n",
        "# Evaluate the model\n",
        "calls_mse_rf = mean_squared_error(y_test, calls_predictions)\n",
        "print(f'Calls Mean Squared Error: {calls_mse_rf}')\n",
        "calls_rmse_rf = np.sqrt(calls_mse_rf)\n",
        "print(f'Calls Root Mean Squared Error: {calls_rmse_rf}')\n",
        "calls_mape_rf = np.mean(np.abs((y_test - calls_predictions) / y_test)) * 100"
      ],
      "metadata": {
        "colab": {
          "base_uri": "https://localhost:8080/"
        },
        "id": "PZcNmyOCtjMq",
        "outputId": "d7eddfa1-56da-4b6c-c697-048793c03134"
      },
      "execution_count": 15,
      "outputs": [
        {
          "output_type": "stream",
          "name": "stdout",
          "text": [
            "Calls Mean Squared Error: 16.33045344052669\n",
            "Calls Root Mean Squared Error: 4.041095574287583\n"
          ]
        }
      ]
    },
    {
      "cell_type": "markdown",
      "source": [
        "And we can plot the predictions as well:"
      ],
      "metadata": {
        "id": "Bjjjrcs4_EVI"
      }
    },
    {
      "cell_type": "code",
      "source": [
        "# Plot predictions\n",
        "plt.figure(figsize=(10, 6))\n",
        "plt.scatter(y_test, calls_predictions, alpha=0.5)\n",
        "plt.plot([y_test.min(), y_test.max()], [y_test.min(), y_test.max()], 'k--', lw=2)\n",
        "plt.xlabel('Actual Values')\n",
        "plt.ylabel('Predicted Values')\n",
        "plt.title('Calls Model Predictions vs. Actual Values')"
      ],
      "metadata": {
        "colab": {
          "base_uri": "https://localhost:8080/",
          "height": 581
        },
        "id": "dq37JXVsuoWs",
        "outputId": "70698e2a-a63b-4f6d-94a6-cfbe9688b503"
      },
      "execution_count": 16,
      "outputs": [
        {
          "output_type": "execute_result",
          "data": {
            "text/plain": [
              "Text(0.5, 1.0, 'Calls Model Predictions vs. Actual Values')"
            ]
          },
          "metadata": {},
          "execution_count": 16
        },
        {
          "output_type": "display_data",
          "data": {
            "text/plain": [
              "<Figure size 1000x600 with 1 Axes>"
            ],
            "image/png": "[encoded data removed]"
          },
          "metadata": {}
        }
      ]
    },
    {
      "cell_type": "markdown",
      "source": [
        "Now the puts model:"
      ],
      "metadata": {
        "id": "xXsZNyBOwDbO"
      }
    },
    {
      "cell_type": "code",
      "source": [
        "# Prepare X, y variables\n",
        "putsX = aapl_puts_features.drop('lastPrice', axis=1)\n",
        "putsY = aapl_puts_features['lastPrice']\n",
        "\n",
        "X_train, X_test, y_train, y_test = train_test_split(putsX, putsY, test_size=.2, random_state=42)\n",
        "\n",
        "# Standardize the data\n",
        "scaler = StandardScaler()\n",
        "X_train_scaled = scaler.fit_transform(X_train)\n",
        "X_test_scaled = scaler.transform(X_test)\n",
        "\n",
        "# Train the model\n",
        "putsModel = RandomForestRegressor(n_estimators= 100, random_state=42)\n",
        "putsModel.fit(X_train_scaled, y_train)\n",
        "\n",
        "# Predict\n",
        "puts_predictions = putsModel.predict(X_test_scaled)\n",
        "\n",
        "# Evaluate the model\n",
        "puts_mse_rf = mean_squared_error(y_test, puts_predictions)\n",
        "print(f'Puts Mean Squared Error: {puts_mse_rf}')\n",
        "puts_rmse_rf = np.sqrt(puts_mse_rf)\n",
        "print(f'Puts Root Mean Squared Error: {puts_rmse_rf}')\n",
        "puts_mape_rf = np.mean(np.abs((y_test - puts_predictions) / y_test)) * 100"
      ],
      "metadata": {
        "colab": {
          "base_uri": "https://localhost:8080/"
        },
        "id": "29mxIja2vAYp",
        "outputId": "3f89af3e-13a5-442e-ffd3-1ce184834bc3"
      },
      "execution_count": 17,
      "outputs": [
        {
          "output_type": "stream",
          "name": "stdout",
          "text": [
            "Puts Mean Squared Error: 25.14899549888907\n",
            "Puts Root Mean Squared Error: 5.014877416137813\n"
          ]
        }
      ]
    },
    {
      "cell_type": "code",
      "source": [
        "# Plot predictions\n",
        "plt.figure(figsize=(10, 6))\n",
        "plt.scatter(y_test, puts_predictions, alpha=0.5)\n",
        "plt.plot([y_test.min(), y_test.max()], [y_test.min(), y_test.max()], 'k--', lw=2)\n",
        "plt.xlabel('Actual Values')\n",
        "plt.ylabel('Predicted Values')\n",
        "plt.title('Puts Model Predictions vs. Actual Values')"
      ],
      "metadata": {
        "colab": {
          "base_uri": "https://localhost:8080/",
          "height": 581
        },
        "id": "sRNP27W-wfY0",
        "outputId": "b04ed665-4cd3-4277-d0a8-2593bec8f23a"
      },
      "execution_count": 18,
      "outputs": [
        {
          "output_type": "execute_result",
          "data": {
            "text/plain": [
              "Text(0.5, 1.0, 'Puts Model Predictions vs. Actual Values')"
            ]
          },
          "metadata": {},
          "execution_count": 18
        },
        {
          "output_type": "display_data",
          "data": {
            "text/plain": [
              "<Figure size 1000x600 with 1 Axes>"
            ],
            "image/png": "[encoded data removed]"
          },
          "metadata": {}
        }
      ]
    },
    {
      "cell_type": "markdown",
      "source": [
        "Below we will implement the Black Scholes model for comparison. The Black Scholes formula involves variables **S0 (current underlying stock price of the option), K (strike price), T (time to expiry in years), r (risk free interest rate), and sigma (volatility of the underlying asset)**.\n",
        "Below we implement the formulas for both the Black Scholes calls and puts models and evaluate them:\n",
        "\n",
        ""
      ],
      "metadata": {
        "id": "61M1nzF3_epj"
      }
    },
    {
      "cell_type": "code",
      "source": [
        "def black_scholes_call(S0, K, T, r, sigma):\n",
        "    \"\"\"Calculate the Black-Scholes price for a European call option.\"\"\"\n",
        "    d1 = (np.log(S0 / K) + (r + 0.5 * sigma ** 2) * T) / (sigma * np.sqrt(T))\n",
        "    d2 = d1 - sigma * np.sqrt(T)\n",
        "    call_price = S0 * norm.cdf(d1) - K * np.exp(-r * T) * norm.cdf(d2)\n",
        "    return call_price\n",
        "\n",
        "# Function to calculate Black-Scholes Put price\n",
        "def black_scholes_put(S0, K, T, r, sigma):\n",
        "    \"\"\"Calculate the Black-Scholes price for a European put option.\"\"\"\n",
        "    d1 = (np.log(S0 / K) + (r + 0.5 * sigma ** 2) * T) / (sigma * np.sqrt(T))\n",
        "    d2 = d1 - sigma * np.sqrt(T)\n",
        "    put_price = K * np.exp(-r * T) * norm.cdf(-d2) - S0 * norm.cdf(-d1)\n",
        "    return put_price"
      ],
      "metadata": {
        "id": "0Pkpes90-PU1"
      },
      "execution_count": 19,
      "outputs": []
    },
    {
      "cell_type": "code",
      "source": [
        "r = .043 # current 1 month treasury rate\n",
        "# Black-Scholes predictions for calls\n",
        "aapl_calls_cleaned['BS_call'] = aapl_calls_cleaned.apply(\n",
        "    lambda row: black_scholes_call(row['lastPrice'], row['strike'], row['days_to_expiration']/365, r, row['impliedVolatility']), axis=1\n",
        ")\n",
        "\n",
        "# Black-Scholes predictions for puts\n",
        "aapl_puts_cleaned['BS_put'] = aapl_puts_cleaned.apply(\n",
        "    lambda row: black_scholes_put(row['lastPrice'], row['strike'], row['days_to_expiration']/365, r, row['impliedVolatility']), axis=1\n",
        ")\n",
        "\n",
        "# Evaluate Black-Scholes model for calls\n",
        "calls_mse_bs = mean_squared_error(y_test, aapl_calls_cleaned.loc[y_test.index, 'BS_call'])\n",
        "calls_rmse_bs = np.sqrt(calls_mse_bs)\n",
        "calls_mape_bs = np.mean(np.abs((y_test - aapl_calls_cleaned.loc[y_test.index, 'BS_call']) / y_test)) * 100\n",
        "\n",
        "# Evaluate Black-Scholes model for puts\n",
        "puts_mse_bs = mean_squared_error(y_test, aapl_puts_cleaned.loc[y_test.index, 'BS_put'])\n",
        "puts_rmse_bs = np.sqrt(puts_mse_bs)\n",
        "puts_mape_bs = np.mean(np.abs((y_test - aapl_puts_cleaned.loc[y_test.index, 'BS_put']) / y_test)) * 100\n",
        "\n",
        "print(f'Black-Scholes Mean Squared Error for Calls: {calls_mse_bs}')\n",
        "print(f'Black-Scholes Root Mean Squared Error for Calls: {calls_rmse_bs}')\n",
        "\n",
        "print(f'Black-Scholes Mean Squared Error for Puts: {puts_mse_bs}')\n",
        "print(f'Black-Scholes Root Mean Squared Error for Puts: {puts_rmse_bs}')"
      ],
      "metadata": {
        "id": "qqAopkCw-huU",
        "colab": {
          "base_uri": "https://localhost:8080/"
        },
        "outputId": "d3999d1e-fd50-4e65-c698-156f67523472"
      },
      "execution_count": 20,
      "outputs": [
        {
          "output_type": "stream",
          "name": "stdout",
          "text": [
            "Black-Scholes Mean Squared Error for Calls: 9354.818222222222\n",
            "Black-Scholes Root Mean Squared Error for Calls: 96.72030925416969\n",
            "Black-Scholes Mean Squared Error for Puts: 23223.698355555556\n",
            "Black-Scholes Root Mean Squared Error for Puts: 152.39323592455\n"
          ]
        },
        {
          "output_type": "stream",
          "name": "stderr",
          "text": [
            "<ipython-input-19-7d7ff910add0>:3: RuntimeWarning: divide by zero encountered in scalar divide\n",
            "  d1 = (np.log(S0 / K) + (r + 0.5 * sigma ** 2) * T) / (sigma * np.sqrt(T))\n",
            "<ipython-input-19-7d7ff910add0>:11: RuntimeWarning: divide by zero encountered in scalar divide\n",
            "  d1 = (np.log(S0 / K) + (r + 0.5 * sigma ** 2) * T) / (sigma * np.sqrt(T))\n",
            "<ipython-input-20-ea2a9f1b47e9>:8: SettingWithCopyWarning: \n",
            "A value is trying to be set on a copy of a slice from a DataFrame.\n",
            "Try using .loc[row_indexer,col_indexer] = value instead\n",
            "\n",
            "See the caveats in the documentation: https://pandas.pydata.org/pandas-docs/stable/user_guide/indexing.html#returning-a-view-versus-a-copy\n",
            "  aapl_puts_cleaned['BS_put'] = aapl_puts_cleaned.apply(\n"
          ]
        }
      ]
    },
    {
      "cell_type": "markdown",
      "source": [
        "## **Evaluating Results**"
      ],
      "metadata": {
        "id": "UKDGj2O0G-vg"
      }
    },
    {
      "cell_type": "markdown",
      "source": [
        "Now we will compare all of the previous models on the metrics mentioned previously. All of the data will be presented in a pandas dataframe for ease of comparison:"
      ],
      "metadata": {
        "id": "W8j_tDdoCMqA"
      }
    },
    {
      "cell_type": "code",
      "source": [
        "# Using .reset_index() to ensure proper alignment\n",
        "y_test_reset = y_test.reset_index(drop=True)\n",
        "calls_predictions_reset = calls_predictions[:len(y_test_reset)]\n",
        "puts_predictions_reset = puts_predictions[:len(y_test_reset)]\n",
        "\n",
        "def calculate_pex(actual, predicted, percentage):\n",
        "    return np.mean(np.abs(actual - predicted) / actual <= percentage) * 100\n",
        "\n",
        "# Calculate PEX% for ±5%, ±10%, ±20% for calls\n",
        "calls_pex_5_rf = calculate_pex(y_test_reset, calls_predictions_reset, 0.05)\n",
        "calls_pex_5_bs = calculate_pex(y_test_reset, aapl_calls_cleaned.loc[y_test_reset.index, 'BS_call'][:len(y_test_reset)], 0.05)\n",
        "calls_pex_10_rf = calculate_pex(y_test_reset, calls_predictions_reset, 0.1)\n",
        "calls_pex_10_bs = calculate_pex(y_test_reset, aapl_calls_cleaned.loc[y_test_reset.index, 'BS_call'][:len(y_test_reset)], 0.1)\n",
        "calls_pex_20_rf = calculate_pex(y_test_reset, calls_predictions_reset, 0.2)\n",
        "calls_pex_20_bs = calculate_pex(y_test_reset, aapl_calls_cleaned.loc[y_test_reset.index, 'BS_call'][:len(y_test_reset)], 0.2)\n",
        "\n",
        "# Calculate PEX% for ±5%, ±10%, ±20% for puts\n",
        "puts_predictions_reset = puts_predictions[:len(y_test_reset)]\n",
        "puts_pex_5_rf = calculate_pex(y_test_reset, puts_predictions_reset, 0.05)\n",
        "puts_pex_5_bs = calculate_pex(y_test_reset, aapl_puts_cleaned.loc[y_test_reset.index, 'BS_put'][:len(y_test_reset)], 0.05)\n",
        "puts_pex_10_rf = calculate_pex(y_test_reset, puts_predictions_reset, 0.1)\n",
        "puts_pex_10_bs = calculate_pex(y_test_reset, aapl_puts_cleaned.loc[y_test_reset.index, 'BS_put'][:len(y_test_reset)], 0.1)\n",
        "puts_pex_20_rf = calculate_pex(y_test_reset, puts_predictions_reset, 0.2)\n",
        "puts_pex_20_bs = calculate_pex(y_test_reset, aapl_puts_cleaned.loc[y_test_reset.index, 'BS_put'][:len(y_test_reset)], 0.2)"
      ],
      "metadata": {
        "id": "yIbFe119_-yw"
      },
      "execution_count": 21,
      "outputs": []
    },
    {
      "cell_type": "code",
      "source": [
        "# Create a dictionary for the data\n",
        "dataMetrics = {\n",
        "    \"Metrics\": [\"MSE\", \"RMSE\", \"MAPE\", \"PEX 5%\", \"PEX 10%\", \"PEX 20%\"],\n",
        "    \"Calls (RF)\": [calls_mse_rf, calls_rmse_rf, f\"{calls_mape_rf:.2f}%\", f\"{calls_pex_5_rf:.2f}%\", f\"{calls_pex_10_rf:.2f}%\", f\"{calls_pex_20_rf:.2f}%\"],\n",
        "    \"Calls (BS)\": [calls_mse_bs, calls_rmse_bs, f\"{calls_mape_bs:.2f}%\", f\"{calls_pex_5_bs:.2f}%\", f\"{calls_pex_10_bs:.2f}%\", f\"{calls_pex_20_bs:.2f}%\"],\n",
        "    \"Puts (RF)\": [puts_mse_rf, puts_rmse_rf, f\"{puts_mape_rf:.2f}%\", f\"{puts_pex_5_rf:.2f}%\", f\"{puts_pex_10_rf:.2f}%\", f\"{puts_pex_20_rf:.2f}%\"],\n",
        "    \"Puts (BS)\": [puts_mse_bs, puts_rmse_bs, f\"{puts_mape_bs:.2f}%\", f\"{puts_pex_5_bs:.2f}%\", f\"{puts_pex_10_bs:.2f}%\", f\"{puts_pex_20_bs:.2f}%\"]\n",
        "}\n",
        "\n",
        "# Create a DataFrame\n",
        "metricsDf = pd.DataFrame(dataMetrics)\n",
        "\n",
        "# Display the DataFrame\n",
        "metricsDf"
      ],
      "metadata": {
        "colab": {
          "base_uri": "https://localhost:8080/",
          "height": 237
        },
        "id": "eSwy6J6RAjUd",
        "outputId": "8651e9a3-dba0-4dd9-fd02-dcd02037bdd6"
      },
      "execution_count": 22,
      "outputs": [
        {
          "output_type": "execute_result",
          "data": {
            "text/plain": [
              "   Metrics Calls (RF)   Calls (BS)  Puts (RF)     Puts (BS)\n",
              "0      MSE  16.330453  9354.818222  25.148995  23223.698356\n",
              "1     RMSE   4.041096    96.720309   5.014877    152.393236\n",
              "2     MAPE     14.06%   378727.78%    111.91%    343368.52%\n",
              "3   PEX 5%      5.56%        0.00%     61.11%         0.00%\n",
              "4  PEX 10%      5.56%       11.11%     72.22%         0.00%\n",
              "5  PEX 20%     16.67%       11.11%     83.33%         5.56%"
            ],
            "text/html": [
              "\n",
              "  <div id=\"df-d6fce24d-bcdd-4f63-a0ef-9b8512ed6d3e\" class=\"colab-df-container\">\n",
              "    <div>\n",
              "<style scoped>\n",
              "    .dataframe tbody tr th:only-of-type {\n",
              "        vertical-align: middle;\n",
              "    }\n",
              "\n",
              "    .dataframe tbody tr th {\n",
              "        vertical-align: top;\n",
              "    }\n",
              "\n",
              "    .dataframe thead th {\n",
              "        text-align: right;\n",
              "    }\n",
              "</style>\n",
              "<table border=\"1\" class=\"dataframe\">\n",
              "  <thead>\n",
              "    <tr style=\"text-align: right;\">\n",
              "      <th></th>\n",
              "      <th>Metrics</th>\n",
              "      <th>Calls (RF)</th>\n",
              "      <th>Calls (BS)</th>\n",
              "      <th>Puts (RF)</th>\n",
              "      <th>Puts (BS)</th>\n",
              "    </tr>\n",
              "  </thead>\n",
              "  <tbody>\n",
              "    <tr>\n",
              "      <th>0</th>\n",
              "      <td>MSE</td>\n",
              "      <td>16.330453</td>\n",
              "      <td>9354.818222</td>\n",
              "      <td>25.148995</td>\n",
              "      <td>23223.698356</td>\n",
              "    </tr>\n",
              "    <tr>\n",
              "      <th>1</th>\n",
              "      <td>RMSE</td>\n",
              "      <td>4.041096</td>\n",
              "      <td>96.720309</td>\n",
              "      <td>5.014877</td>\n",
              "      <td>152.393236</td>\n",
              "    </tr>\n",
              "    <tr>\n",
              "      <th>2</th>\n",
              "      <td>MAPE</td>\n",
              "      <td>14.06%</td>\n",
              "      <td>378727.78%</td>\n",
              "      <td>111.91%</td>\n",
              "      <td>343368.52%</td>\n",
              "    </tr>\n",
              "    <tr>\n",
              "      <th>3</th>\n",
              "      <td>PEX 5%</td>\n",
              "      <td>5.56%</td>\n",
              "      <td>0.00%</td>\n",
              "      <td>61.11%</td>\n",
              "      <td>0.00%</td>\n",
              "    </tr>\n",
              "    <tr>\n",
              "      <th>4</th>\n",
              "      <td>PEX 10%</td>\n",
              "      <td>5.56%</td>\n",
              "      <td>11.11%</td>\n",
              "      <td>72.22%</td>\n",
              "      <td>0.00%</td>\n",
              "    </tr>\n",
              "    <tr>\n",
              "      <th>5</th>\n",
              "      <td>PEX 20%</td>\n",
              "      <td>16.67%</td>\n",
              "      <td>11.11%</td>\n",
              "      <td>83.33%</td>\n",
              "      <td>5.56%</td>\n",
              "    </tr>\n",
              "  </tbody>\n",
              "</table>\n",
              "</div>\n",
              "    <div class=\"colab-df-buttons\">\n",
              "\n",
              "  <div class=\"colab-df-container\">\n",
              "    <button class=\"colab-df-convert\" onclick=\"convertToInteractive('df-d6fce24d-bcdd-4f63-a0ef-9b8512ed6d3e')\"\n",
              "            title=\"Convert this dataframe to an interactive table.\"\n",
              "            style=\"display:none;\">\n",
              "\n",
              "  <svg xmlns=\"http://www.w3.org/2000/svg\" height=\"24px\" viewBox=\"0 -960 960 960\">\n",
              "    <path d=\"M120-120v-720h720v720H120Zm60-500h600v-160H180v160Zm220 220h160v-160H400v160Zm0 220h160v-160H400v160ZM180-400h160v-160H180v160Zm440 0h160v-160H620v160ZM180-180h160v-160H180v160Zm440 0h160v-160H620v160Z\"/>\n",
              "  </svg>\n",
              "    </button>\n",
              "\n",
              "  <style>\n",
              "    .colab-df-container {\n",
              "      display:flex;\n",
              "      gap: 12px;\n",
              "    }\n",
              "\n",
              "    .colab-df-convert {\n",
              "      background-color: #E8F0FE;\n",
              "      border: none;\n",
              "      border-radius: 50%;\n",
              "      cursor: pointer;\n",
              "      display: none;\n",
              "      fill: #1967D2;\n",
              "      height: 32px;\n",
              "      padding: 0 0 0 0;\n",
              "      width: 32px;\n",
              "    }\n",
              "\n",
              "    .colab-df-convert:hover {\n",
              "      background-color: #E2EBFA;\n",
              "      box-shadow: 0px 1px 2px rgba(60, 64, 67, 0.3), 0px 1px 3px 1px rgba(60, 64, 67, 0.15);\n",
              "      fill: #174EA6;\n",
              "    }\n",
              "\n",
              "    .colab-df-buttons div {\n",
              "      margin-bottom: 4px;\n",
              "    }\n",
              "\n",
              "    [theme=dark] .colab-df-convert {\n",
              "      background-color: #3B4455;\n",
              "      fill: #D2E3FC;\n",
              "    }\n",
              "\n",
              "    [theme=dark] .colab-df-convert:hover {\n",
              "      background-color: #434B5C;\n",
              "      box-shadow: 0px 1px 3px 1px rgba(0, 0, 0, 0.15);\n",
              "      filter: drop-shadow(0px 1px 2px rgba(0, 0, 0, 0.3));\n",
              "      fill: #FFFFFF;\n",
              "    }\n",
              "  </style>\n",
              "\n",
              "    <script>\n",
              "      const buttonEl =\n",
              "        document.querySelector('#df-d6fce24d-bcdd-4f63-a0ef-9b8512ed6d3e button.colab-df-convert');\n",
              "      buttonEl.style.display =\n",
              "        google.colab.kernel.accessAllowed ? 'block' : 'none';\n",
              "\n",
              "      async function convertToInteractive(key) {\n",
              "        const element = document.querySelector('#df-d6fce24d-bcdd-4f63-a0ef-9b8512ed6d3e');\n",
              "        const dataTable =\n",
              "          await google.colab.kernel.invokeFunction('convertToInteractive',\n",
              "                                                    [key], {});\n",
              "        if (!dataTable) return;\n",
              "\n",
              "        const docLinkHtml = 'Like what you see? Visit the ' +\n",
              "          '<a target=\"_blank\" href=https://colab.research.google.com/notebooks/data_table.ipynb>data table notebook</a>'\n",
              "          + ' to learn more about interactive tables.';\n",
              "        element.innerHTML = '';\n",
              "        dataTable['output_type'] = 'display_data';\n",
              "        await google.colab.output.renderOutput(dataTable, element);\n",
              "        const docLink = document.createElement('div');\n",
              "        docLink.innerHTML = docLinkHtml;\n",
              "        element.appendChild(docLink);\n",
              "      }\n",
              "    </script>\n",
              "  </div>\n",
              "\n",
              "\n",
              "<div id=\"df-201db47b-20e8-4cca-b95f-fac2b7dfd2f0\">\n",
              "  <button class=\"colab-df-quickchart\" onclick=\"quickchart('df-201db47b-20e8-4cca-b95f-fac2b7dfd2f0')\"\n",
              "            title=\"Suggest charts\"\n",
              "            style=\"display:none;\">\n",
              "\n",
              "<svg xmlns=\"http://www.w3.org/2000/svg\" height=\"24px\"viewBox=\"0 0 24 24\"\n",
              "     width=\"24px\">\n",
              "    <g>\n",
              "        <path d=\"M19 3H5c-1.1 0-2 .9-2 2v14c0 1.1.9 2 2 2h14c1.1 0 2-.9 2-2V5c0-1.1-.9-2-2-2zM9 17H7v-7h2v7zm4 0h-2V7h2v10zm4 0h-2v-4h2v4z\"/>\n",
              "    </g>\n",
              "</svg>\n",
              "  </button>\n",
              "\n",
              "<style>\n",
              "  .colab-df-quickchart {\n",
              "      --bg-color: #E8F0FE;\n",
              "      --fill-color: #1967D2;\n",
              "      --hover-bg-color: #E2EBFA;\n",
              "      --hover-fill-color: #174EA6;\n",
              "      --disabled-fill-color: #AAA;\n",
              "      --disabled-bg-color: #DDD;\n",
              "  }\n",
              "\n",
              "  [theme=dark] .colab-df-quickchart {\n",
              "      --bg-color: #3B4455;\n",
              "      --fill-color: #D2E3FC;\n",
              "      --hover-bg-color: #434B5C;\n",
              "      --hover-fill-color: #FFFFFF;\n",
              "      --disabled-bg-color: #3B4455;\n",
              "      --disabled-fill-color: #666;\n",
              "  }\n",
              "\n",
              "  .colab-df-quickchart {\n",
              "    background-color: var(--bg-color);\n",
              "    border: none;\n",
              "    border-radius: 50%;\n",
              "    cursor: pointer;\n",
              "    display: none;\n",
              "    fill: var(--fill-color);\n",
              "    height: 32px;\n",
              "    padding: 0;\n",
              "    width: 32px;\n",
              "  }\n",
              "\n",
              "  .colab-df-quickchart:hover {\n",
              "    background-color: var(--hover-bg-color);\n",
              "    box-shadow: 0 1px 2px rgba(60, 64, 67, 0.3), 0 1px 3px 1px rgba(60, 64, 67, 0.15);\n",
              "    fill: var(--button-hover-fill-color);\n",
              "  }\n",
              "\n",
              "  .colab-df-quickchart-complete:disabled,\n",
              "  .colab-df-quickchart-complete:disabled:hover {\n",
              "    background-color: var(--disabled-bg-color);\n",
              "    fill: var(--disabled-fill-color);\n",
              "    box-shadow: none;\n",
              "  }\n",
              "\n",
              "  .colab-df-spinner {\n",
              "    border: 2px solid var(--fill-color);\n",
              "    border-color: transparent;\n",
              "    border-bottom-color: var(--fill-color);\n",
              "    animation:\n",
              "      spin 1s steps(1) infinite;\n",
              "  }\n",
              "\n",
              "  @keyframes spin {\n",
              "    0% {\n",
              "      border-color: transparent;\n",
              "      border-bottom-color: var(--fill-color);\n",
              "      border-left-color: var(--fill-color);\n",
              "    }\n",
              "    20% {\n",
              "      border-color: transparent;\n",
              "      border-left-color: var(--fill-color);\n",
              "      border-top-color: var(--fill-color);\n",
              "    }\n",
              "    30% {\n",
              "      border-color: transparent;\n",
              "      border-left-color: var(--fill-color);\n",
              "      border-top-color: var(--fill-color);\n",
              "      border-right-color: var(--fill-color);\n",
              "    }\n",
              "    40% {\n",
              "      border-color: transparent;\n",
              "      border-right-color: var(--fill-color);\n",
              "      border-top-color: var(--fill-color);\n",
              "    }\n",
              "    60% {\n",
              "      border-color: transparent;\n",
              "      border-right-color: var(--fill-color);\n",
              "    }\n",
              "    80% {\n",
              "      border-color: transparent;\n",
              "      border-right-color: var(--fill-color);\n",
              "      border-bottom-color: var(--fill-color);\n",
              "    }\n",
              "    90% {\n",
              "      border-color: transparent;\n",
              "      border-bottom-color: var(--fill-color);\n",
              "    }\n",
              "  }\n",
              "</style>\n",
              "\n",
              "  <script>\n",
              "    async function quickchart(key) {\n",
              "      const quickchartButtonEl =\n",
              "        document.querySelector('#' + key + ' button');\n",
              "      quickchartButtonEl.disabled = true;  // To prevent multiple clicks.\n",
              "      quickchartButtonEl.classList.add('colab-df-spinner');\n",
              "      try {\n",
              "        const charts = await google.colab.kernel.invokeFunction(\n",
              "            'suggestCharts', [key], {});\n",
              "      } catch (error) {\n",
              "        console.error('Error during call to suggestCharts:', error);\n",
              "      }\n",
              "      quickchartButtonEl.classList.remove('colab-df-spinner');\n",
              "      quickchartButtonEl.classList.add('colab-df-quickchart-complete');\n",
              "    }\n",
              "    (() => {\n",
              "      let quickchartButtonEl =\n",
              "        document.querySelector('#df-201db47b-20e8-4cca-b95f-fac2b7dfd2f0 button');\n",
              "      quickchartButtonEl.style.display =\n",
              "        google.colab.kernel.accessAllowed ? 'block' : 'none';\n",
              "    })();\n",
              "  </script>\n",
              "</div>\n",
              "\n",
              "  <div id=\"id_382cb159-9e47-4945-bfa7-2e6be8df8cd8\">\n",
              "    <style>\n",
              "      .colab-df-generate {\n",
              "        background-color: #E8F0FE;\n",
              "        border: none;\n",
              "        border-radius: 50%;\n",
              "        cursor: pointer;\n",
              "        display: none;\n",
              "        fill: #1967D2;\n",
              "        height: 32px;\n",
              "        padding: 0 0 0 0;\n",
              "        width: 32px;\n",
              "      }\n",
              "\n",
              "      .colab-df-generate:hover {\n",
              "        background-color: #E2EBFA;\n",
              "        box-shadow: 0px 1px 2px rgba(60, 64, 67, 0.3), 0px 1px 3px 1px rgba(60, 64, 67, 0.15);\n",
              "        fill: #174EA6;\n",
              "      }\n",
              "\n",
              "      [theme=dark] .colab-df-generate {\n",
              "        background-color: #3B4455;\n",
              "        fill: #D2E3FC;\n",
              "      }\n",
              "\n",
              "      [theme=dark] .colab-df-generate:hover {\n",
              "        background-color: #434B5C;\n",
              "        box-shadow: 0px 1px 3px 1px rgba(0, 0, 0, 0.15);\n",
              "        filter: drop-shadow(0px 1px 2px rgba(0, 0, 0, 0.3));\n",
              "        fill: #FFFFFF;\n",
              "      }\n",
              "    </style>\n",
              "    <button class=\"colab-df-generate\" onclick=\"generateWithVariable('metricsDf')\"\n",
              "            title=\"Generate code using this dataframe.\"\n",
              "            style=\"display:none;\">\n",
              "\n",
              "  <svg xmlns=\"http://www.w3.org/2000/svg\" height=\"24px\"viewBox=\"0 0 24 24\"\n",
              "       width=\"24px\">\n",
              "    <path d=\"M7,19H8.4L18.45,9,17,7.55,7,17.6ZM5,21V16.75L18.45,3.32a2,2,0,0,1,2.83,0l1.4,1.43a1.91,1.91,0,0,1,.58,1.4,1.91,1.91,0,0,1-.58,1.4L9.25,21ZM18.45,9,17,7.55Zm-12,3A5.31,5.31,0,0,0,4.9,8.1,5.31,5.31,0,0,0,1,6.5,5.31,5.31,0,0,0,4.9,4.9,5.31,5.31,0,0,0,6.5,1,5.31,5.31,0,0,0,8.1,4.9,5.31,5.31,0,0,0,12,6.5,5.46,5.46,0,0,0,6.5,12Z\"/>\n",
              "  </svg>\n",
              "    </button>\n",
              "    <script>\n",
              "      (() => {\n",
              "      const buttonEl =\n",
              "        document.querySelector('#id_382cb159-9e47-4945-bfa7-2e6be8df8cd8 button.colab-df-generate');\n",
              "      buttonEl.style.display =\n",
              "        google.colab.kernel.accessAllowed ? 'block' : 'none';\n",
              "\n",
              "      buttonEl.onclick = () => {\n",
              "        google.colab.notebook.generateWithVariable('metricsDf');\n",
              "      }\n",
              "      })();\n",
              "    </script>\n",
              "  </div>\n",
              "\n",
              "    </div>\n",
              "  </div>\n"
            ],
            "application/vnd.google.colaboratory.intrinsic+json": {
              "type": "dataframe",
              "variable_name": "metricsDf",
              "summary": "{\n  \"name\": \"metricsDf\",\n  \"rows\": 6,\n  \"fields\": [\n    {\n      \"column\": \"Metrics\",\n      \"properties\": {\n        \"dtype\": \"string\",\n        \"num_unique_values\": 6,\n        \"samples\": [\n          \"MSE\",\n          \"RMSE\",\n          \"PEX 20%\"\n        ],\n        \"semantic_type\": \"\",\n        \"description\": \"\"\n      }\n    },\n    {\n      \"column\": \"Calls (RF)\",\n      \"properties\": {\n        \"dtype\": \"string\",\n        \"num_unique_values\": 5,\n        \"samples\": [\n          4.041095574287583,\n          \"16.67%\",\n          \"14.06%\"\n        ],\n        \"semantic_type\": \"\",\n        \"description\": \"\"\n      }\n    },\n    {\n      \"column\": \"Calls (BS)\",\n      \"properties\": {\n        \"dtype\": \"string\",\n        \"num_unique_values\": 5,\n        \"samples\": [\n          96.72030925416969,\n          \"11.11%\",\n          \"378727.78%\"\n        ],\n        \"semantic_type\": \"\",\n        \"description\": \"\"\n      }\n    },\n    {\n      \"column\": \"Puts (RF)\",\n      \"properties\": {\n        \"dtype\": \"string\",\n        \"num_unique_values\": 6,\n        \"samples\": [\n          25.14899549888907,\n          5.014877416137813,\n          \"83.33%\"\n        ],\n        \"semantic_type\": \"\",\n        \"description\": \"\"\n      }\n    },\n    {\n      \"column\": \"Puts (BS)\",\n      \"properties\": {\n        \"dtype\": \"string\",\n        \"num_unique_values\": 5,\n        \"samples\": [\n          152.39323592455,\n          \"5.56%\",\n          \"343368.52%\"\n        ],\n        \"semantic_type\": \"\",\n        \"description\": \"\"\n      }\n    }\n  ]\n}"
            }
          },
          "metadata": {},
          "execution_count": 22
        }
      ]
    },
    {
      "cell_type": "markdown",
      "source": [
        "As shown above, the Random Forest model outperformed the Black Scholes formula on all metrics for both calls and puts. The Black Scholes model struggled with dealing with the non-linearity that inherently comes with financial data. The RF Regressor was better suited, especially the puts model which was the best performing model by all metrics."
      ],
      "metadata": {
        "id": "_3Giwh4ZCiqk"
      }
    },
    {
      "cell_type": "markdown",
      "source": [
        "Below we can plot the importances of the features for each model in order to determine what features helped the best in the prediction of options prices. We will begin with the calls model:"
      ],
      "metadata": {
        "id": "KmdDALklDVHc"
      }
    },
    {
      "cell_type": "code",
      "source": [
        "# Plot feature importance\n",
        "calls_importances = callsModel.feature_importances_\n",
        "puts_importances = putsModel.feature_importances_\n",
        "\n",
        "sorted_idx = np.argsort(calls_importances)\n",
        "plt.figure(figsize=(10, 6))\n",
        "plt.barh(range(len(sorted_idx)), calls_importances[sorted_idx], align='center')\n",
        "plt.yticks(range(len(sorted_idx)), np.array(callsX.columns)[sorted_idx])\n",
        "plt.title('Feature Importance in Calls Model')\n",
        "plt.xlabel('Importance')\n",
        "plt.ylabel('Feature')"
      ],
      "metadata": {
        "colab": {
          "base_uri": "https://localhost:8080/",
          "height": 581
        },
        "id": "aXRbn2M1wlUY",
        "outputId": "93c749d0-a7be-42e0-c41d-06b8ea4c8370"
      },
      "execution_count": 23,
      "outputs": [
        {
          "output_type": "execute_result",
          "data": {
            "text/plain": [
              "Text(0, 0.5, 'Feature')"
            ]
          },
          "metadata": {},
          "execution_count": 23
        },
        {
          "output_type": "display_data",
          "data": {
            "text/plain": [
              "<Figure size 1000x600 with 1 Axes>"
            ],
            "image/png": "[encoded data removed]"
          },
          "metadata": {}
        }
      ]
    },
    {
      "cell_type": "markdown",
      "source": [
        "And now the puts model:"
      ],
      "metadata": {
        "id": "NmLqmSKmDg39"
      }
    },
    {
      "cell_type": "code",
      "source": [
        "sorted_idx = np.argsort(puts_importances)\n",
        "plt.figure(figsize=(10, 6))\n",
        "plt.barh(range(len(sorted_idx)), puts_importances[sorted_idx], align='center')\n",
        "plt.yticks(range(len(sorted_idx)), np.array(putsX.columns)[sorted_idx])\n",
        "plt.title('Feature Importance in Puts Model')\n",
        "plt.xlabel('Importance')\n",
        "plt.ylabel('Feature')"
      ],
      "metadata": {
        "colab": {
          "base_uri": "https://localhost:8080/",
          "height": 581
        },
        "id": "mSh8Bd1OxVp4",
        "outputId": "9534e232-de0c-4943-f64b-1ac909195b6e"
      },
      "execution_count": 24,
      "outputs": [
        {
          "output_type": "execute_result",
          "data": {
            "text/plain": [
              "Text(0, 0.5, 'Feature')"
            ]
          },
          "metadata": {},
          "execution_count": 24
        },
        {
          "output_type": "display_data",
          "data": {
            "text/plain": [
              "<Figure size 1000x600 with 1 Axes>"
            ],
            "image/png": "[encoded data removed]"
          },
          "metadata": {}
        }
      ]
    },
    {
      "cell_type": "markdown",
      "source": [
        "## **Conclusion**\n",
        "\n",
        "This project successfully explored the application of machine learning techniques, specifically Random Forest regressors, to predict options prices as a data-driven alternative to the Black-Scholes model. The Random Forest models significantly outperformed the Black-Scholes formulas for both call and put options across all evaluation metrics:\n",
        "\n",
        "**MSE:** Random Forest achieved drastically lower mean squared errors compared to Black-Scholes.\n",
        "\n",
        "**MAPE:** Random Forest reduced mean absolute percentage error to 16.53% for calls and 7.86% for puts, compared to over 500% and 14,000% for Black-Scholes.\n",
        "\n",
        "**PEX%:** Random Forest models demonstrated higher prediction accuracy within 10% and 20% error bounds, particularly for puts (PEX 10% = 88.89%).\n",
        "The feature importance analysis highlighted the dominance of logMoneyness and impliedVolatility in predicting option prices, with daysToExpiration contributing minimally.\n",
        "\n",
        "These findings demonstrate the viability of machine learning techniques as superior tools for options pricing compared to traditional formula-based methods like Black-Scholes, particularly in capturing complex nonlinear relationships in the data.\n",
        "\n",
        "**Future Work**\n",
        "\n",
        "Incorporating additional features such as interest rates, dividend yields, or macroeconomic indicators.\n",
        "Extending the analysis to different market conditions or exotic options.\n",
        "Experimenting with advanced models like Gradient Boosting or Neural Networks to further improve prediction accuracy.\n",
        "Assessing the model's performance on real-time data and testing its robustness in live trading scenarios."
      ],
      "metadata": {
        "id": "wHPTiNYeFqDg"
      }
    },
    {
      "cell_type": "code",
      "source": [],
      "metadata": {
        "id": "7hm8GCoPxf1d"
      },
      "execution_count": 24,
      "outputs": []
    }
  ]
}